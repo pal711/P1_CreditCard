{
 "cells": [
  {
   "cell_type": "code",
   "execution_count": 1,
   "metadata": {},
   "outputs": [],
   "source": [
    "import numpy as np\n",
    "import pandas as pd\n",
    "import sklearn\n",
    "from sklearn.preprocessing import StandardScaler\n",
    "from sklearn.model_selection import train_test_split"
   ]
  },
  {
   "cell_type": "code",
   "execution_count": null,
   "metadata": {},
   "outputs": [],
   "source": [
    "data= pd.read_csv(\"/home/souvik/ML_projects/P1_Credit_card_Approval/data/crx.data\", header=None)\n",
    "data.head()"
   ]
  },
  {
   "cell_type": "code",
   "execution_count": null,
   "metadata": {},
   "outputs": [],
   "source": [
    "data.columns= [\"a\"+str(i) for i in range(1,17)]\n",
    "data.head()"
   ]
  },
  {
   "cell_type": "code",
   "execution_count": null,
   "metadata": {},
   "outputs": [],
   "source": [
    "target= data[['a16']]\n",
    "data = data.drop(['a16'], axis=1)\n",
    "print(data.head())"
   ]
  },
  {
   "cell_type": "code",
   "execution_count": null,
   "metadata": {},
   "outputs": [],
   "source": [
    "X_train, X_test, y_train, y_test= train_test_split(data, target, test_size= 0.2, random_state=711)\n",
    "print(X_train.shape)\n",
    "print(X_test.shape)\n",
    "print(y_train.shape)\n",
    "print(y_test.shape)\n",
    "X_train.to_csv(\"/home/souvik/ML_projects/P1_Credit_card_Approval/data/X_train.csv\", index=False)\n",
    "X_test.to_csv(\"/home/souvik/ML_projects/P1_Credit_card_Approval/data/X_test.csv\", index=False)\n",
    "y_train.to_csv(\"/home/souvik/ML_projects/P1_Credit_card_Approval/data/y_train.csv\", index=False)\n",
    "y_test.to_csv(\"/home/souvik/ML_projects/P1_Credit_card_Approval/data/y_test.csv\", index=False)"
   ]
  },
  {
   "cell_type": "code",
   "execution_count": 2,
   "metadata": {},
   "outputs": [
    {
     "data": {
      "text/html": [
       "<div>\n",
       "<style scoped>\n",
       "    .dataframe tbody tr th:only-of-type {\n",
       "        vertical-align: middle;\n",
       "    }\n",
       "\n",
       "    .dataframe tbody tr th {\n",
       "        vertical-align: top;\n",
       "    }\n",
       "\n",
       "    .dataframe thead th {\n",
       "        text-align: right;\n",
       "    }\n",
       "</style>\n",
       "<table border=\"1\" class=\"dataframe\">\n",
       "  <thead>\n",
       "    <tr style=\"text-align: right;\">\n",
       "      <th></th>\n",
       "      <th>a1</th>\n",
       "      <th>a2</th>\n",
       "      <th>a3</th>\n",
       "      <th>a4</th>\n",
       "      <th>a5</th>\n",
       "      <th>a6</th>\n",
       "      <th>a7</th>\n",
       "      <th>a8</th>\n",
       "      <th>a9</th>\n",
       "      <th>a10</th>\n",
       "      <th>a11</th>\n",
       "      <th>a12</th>\n",
       "      <th>a13</th>\n",
       "      <th>a14</th>\n",
       "      <th>a15</th>\n",
       "    </tr>\n",
       "  </thead>\n",
       "  <tbody>\n",
       "    <tr>\n",
       "      <th>0</th>\n",
       "      <td>b</td>\n",
       "      <td>20.17</td>\n",
       "      <td>8.170</td>\n",
       "      <td>u</td>\n",
       "      <td>g</td>\n",
       "      <td>aa</td>\n",
       "      <td>v</td>\n",
       "      <td>1.960</td>\n",
       "      <td>t</td>\n",
       "      <td>t</td>\n",
       "      <td>14</td>\n",
       "      <td>f</td>\n",
       "      <td>g</td>\n",
       "      <td>00060</td>\n",
       "      <td>158</td>\n",
       "    </tr>\n",
       "    <tr>\n",
       "      <th>1</th>\n",
       "      <td>a</td>\n",
       "      <td>27.58</td>\n",
       "      <td>3.000</td>\n",
       "      <td>u</td>\n",
       "      <td>g</td>\n",
       "      <td>m</td>\n",
       "      <td>v</td>\n",
       "      <td>2.790</td>\n",
       "      <td>f</td>\n",
       "      <td>t</td>\n",
       "      <td>1</td>\n",
       "      <td>t</td>\n",
       "      <td>g</td>\n",
       "      <td>00280</td>\n",
       "      <td>10</td>\n",
       "    </tr>\n",
       "    <tr>\n",
       "      <th>2</th>\n",
       "      <td>b</td>\n",
       "      <td>39.58</td>\n",
       "      <td>13.915</td>\n",
       "      <td>u</td>\n",
       "      <td>g</td>\n",
       "      <td>w</td>\n",
       "      <td>v</td>\n",
       "      <td>8.625</td>\n",
       "      <td>t</td>\n",
       "      <td>t</td>\n",
       "      <td>6</td>\n",
       "      <td>t</td>\n",
       "      <td>g</td>\n",
       "      <td>00070</td>\n",
       "      <td>0</td>\n",
       "    </tr>\n",
       "    <tr>\n",
       "      <th>3</th>\n",
       "      <td>b</td>\n",
       "      <td>41.17</td>\n",
       "      <td>1.250</td>\n",
       "      <td>y</td>\n",
       "      <td>p</td>\n",
       "      <td>w</td>\n",
       "      <td>v</td>\n",
       "      <td>0.250</td>\n",
       "      <td>f</td>\n",
       "      <td>f</td>\n",
       "      <td>0</td>\n",
       "      <td>f</td>\n",
       "      <td>g</td>\n",
       "      <td>00000</td>\n",
       "      <td>195</td>\n",
       "    </tr>\n",
       "    <tr>\n",
       "      <th>4</th>\n",
       "      <td>b</td>\n",
       "      <td>22.25</td>\n",
       "      <td>0.460</td>\n",
       "      <td>u</td>\n",
       "      <td>g</td>\n",
       "      <td>k</td>\n",
       "      <td>v</td>\n",
       "      <td>0.125</td>\n",
       "      <td>f</td>\n",
       "      <td>f</td>\n",
       "      <td>0</td>\n",
       "      <td>t</td>\n",
       "      <td>g</td>\n",
       "      <td>00280</td>\n",
       "      <td>55</td>\n",
       "    </tr>\n",
       "  </tbody>\n",
       "</table>\n",
       "</div>"
      ],
      "text/plain": [
       "  a1     a2      a3 a4 a5  a6 a7     a8 a9 a10  a11 a12 a13    a14  a15\n",
       "0  b  20.17   8.170  u  g  aa  v  1.960  t   t   14   f   g  00060  158\n",
       "1  a  27.58   3.000  u  g   m  v  2.790  f   t    1   t   g  00280   10\n",
       "2  b  39.58  13.915  u  g   w  v  8.625  t   t    6   t   g  00070    0\n",
       "3  b  41.17   1.250  y  p   w  v  0.250  f   f    0   f   g  00000  195\n",
       "4  b  22.25   0.460  u  g   k  v  0.125  f   f    0   t   g  00280   55"
      ]
     },
     "execution_count": 2,
     "metadata": {},
     "output_type": "execute_result"
    }
   ],
   "source": [
    "X_train= pd.read_csv(\"/home/souvik/ML_projects/P1_Credit_card_Approval/data/X_train.csv\")\n",
    "y_train= pd.read_csv(\"/home/souvik/ML_projects/P1_Credit_card_Approval/data/y_train.csv\")\n",
    "X_train.head()"
   ]
  },
  {
   "cell_type": "markdown",
   "metadata": {},
   "source": [
    "### Now we will expolre values of each columns"
   ]
  },
  {
   "cell_type": "code",
   "execution_count": 3,
   "metadata": {},
   "outputs": [],
   "source": [
    "X_train.replace('?', np.NAN, inplace=True)"
   ]
  },
  {
   "cell_type": "markdown",
   "metadata": {},
   "source": [
    "A1: b, a. <br>\n",
    "A2: continuous.<br>\n",
    "A3: continuous.<br>\n",
    "A4: u, y, l, t.<br>\n",
    "A5: g, p, gg.<br>\n",
    "A6: c, d, cc, i, j, k, m, r, q, w, x, e, aa, ff.<br>\n",
    "A7: v, h, bb, j, n, z, dd, ff, o.<br>\n",
    "A8: continuous.<br>\n",
    "A9: t, f.<br>\n",
    "A10: t, f.<br>\n",
    "A11: continuous.<br>\n",
    "A12: t, f.<br>\n",
    "A13: g, p, s.<br>\n",
    "A14: continuous.<br>\n",
    "A15: continuous.<br>\n",
    "A16: +,- (class attribute)<br>"
   ]
  },
  {
   "cell_type": "code",
   "execution_count": null,
   "metadata": {},
   "outputs": [],
   "source": [
    "X_train.info()"
   ]
  },
  {
   "cell_type": "markdown",
   "metadata": {},
   "source": [
    "**Numerical Attributes** <br>\n",
    "a2 (obj to float64)<br>\n",
    "a3, a8, a11 (int to float64) , a14(obj to float64)<br>\n",
    "a15 (int to float64)\n"
   ]
  },
  {
   "cell_type": "code",
   "execution_count": 4,
   "metadata": {},
   "outputs": [
    {
     "name": "stdout",
     "output_type": "stream",
     "text": [
      "<class 'pandas.core.frame.DataFrame'>\n",
      "RangeIndex: 552 entries, 0 to 551\n",
      "Data columns (total 15 columns):\n",
      " #   Column  Non-Null Count  Dtype  \n",
      "---  ------  --------------  -----  \n",
      " 0   a1      542 non-null    object \n",
      " 1   a2      542 non-null    float64\n",
      " 2   a3      552 non-null    float64\n",
      " 3   a4      546 non-null    object \n",
      " 4   a5      546 non-null    object \n",
      " 5   a6      543 non-null    object \n",
      " 6   a7      543 non-null    object \n",
      " 7   a8      552 non-null    float64\n",
      " 8   a9      552 non-null    object \n",
      " 9   a10     552 non-null    object \n",
      " 10  a11     552 non-null    float64\n",
      " 11  a12     552 non-null    object \n",
      " 12  a13     552 non-null    object \n",
      " 13  a14     542 non-null    float64\n",
      " 14  a15     552 non-null    float64\n",
      "dtypes: float64(6), object(9)\n",
      "memory usage: 64.8+ KB\n"
     ]
    }
   ],
   "source": [
    "X_train['a2']= X_train['a2'].astype('float64')\n",
    "X_train['a11']= X_train['a11'].astype('float64')\n",
    "X_train['a14']= X_train['a14'].astype('float64')\n",
    "X_train['a15']= X_train['a15'].astype('float64')\n",
    "X_train.info()"
   ]
  },
  {
   "cell_type": "markdown",
   "metadata": {},
   "source": [
    "* So a2 also contains 12 '?' values"
   ]
  },
  {
   "cell_type": "code",
   "execution_count": 5,
   "metadata": {},
   "outputs": [
    {
     "data": {
      "text/plain": [
       "a1     10\n",
       "a2     10\n",
       "a3      0\n",
       "a4      6\n",
       "a5      6\n",
       "a6      9\n",
       "a7      9\n",
       "a8      0\n",
       "a9      0\n",
       "a10     0\n",
       "a11     0\n",
       "a12     0\n",
       "a13     0\n",
       "a14    10\n",
       "a15     0\n",
       "dtype: int64"
      ]
     },
     "execution_count": 5,
     "metadata": {},
     "output_type": "execute_result"
    }
   ],
   "source": [
    "X_train.isna().sum()"
   ]
  },
  {
   "cell_type": "markdown",
   "metadata": {},
   "source": [
    "### Till now null values are found in a1, a2 and a4"
   ]
  },
  {
   "cell_type": "code",
   "execution_count": 6,
   "metadata": {},
   "outputs": [
    {
     "data": {
      "text/plain": [
       "a1     10\n",
       "a2      0\n",
       "a3      0\n",
       "a4      6\n",
       "a5      6\n",
       "a6      9\n",
       "a7      9\n",
       "a8      0\n",
       "a9      0\n",
       "a10     0\n",
       "a11     0\n",
       "a12     0\n",
       "a13     0\n",
       "a14     0\n",
       "a15     0\n",
       "dtype: int64"
      ]
     },
     "execution_count": 6,
     "metadata": {},
     "output_type": "execute_result"
    }
   ],
   "source": [
    "X_train.fillna(X_train.mean(), inplace=True)\n",
    "X_train.isna().sum()"
   ]
  },
  {
   "cell_type": "markdown",
   "metadata": {},
   "source": [
    "Categorical attributes are <br>\n",
    "a1, a\\[4-7], a9, a10, 12, 13, 16"
   ]
  },
  {
   "cell_type": "code",
   "execution_count": 7,
   "metadata": {},
   "outputs": [
    {
     "data": {
      "text/plain": [
       "a1     0\n",
       "a2     0\n",
       "a3     0\n",
       "a4     0\n",
       "a5     0\n",
       "a6     0\n",
       "a7     0\n",
       "a8     0\n",
       "a9     0\n",
       "a10    0\n",
       "a11    0\n",
       "a12    0\n",
       "a13    0\n",
       "a14    0\n",
       "a15    0\n",
       "dtype: int64"
      ]
     },
     "execution_count": 7,
     "metadata": {},
     "output_type": "execute_result"
    }
   ],
   "source": [
    "for col in X_train.columns:\n",
    "    if X_train[col].dtype == 'object':\n",
    "        X_train[col].fillna(X_train[col].value_counts().idxmax(), inplace= True)\n",
    "    \n",
    "X_train.isna().sum()"
   ]
  },
  {
   "cell_type": "code",
   "execution_count": null,
   "metadata": {},
   "outputs": [],
   "source": [
    "y_train.head()"
   ]
  },
  {
   "cell_type": "code",
   "execution_count": 8,
   "metadata": {},
   "outputs": [
    {
     "name": "stdout",
     "output_type": "stream",
     "text": [
      "[0 1 0 1 1]\n"
     ]
    }
   ],
   "source": [
    "from sklearn.preprocessing import LabelEncoder, OneHotEncoder\n",
    "y_train_np= y_train['a16'].values\n",
    "le_y= LabelEncoder()\n",
    "y_train_np= le_y.fit_transform(y_train_np)\n",
    "print(y_train_np[:5])"
   ]
  },
  {
   "cell_type": "markdown",
   "metadata": {},
   "source": [
    "1,9,10,12"
   ]
  },
  {
   "cell_type": "code",
   "execution_count": 9,
   "metadata": {},
   "outputs": [],
   "source": [
    "encoders=[]\n",
    "\n",
    "for col in ['a1', 'a9', 'a10', 'a12']:\n",
    "    le_x= LabelEncoder()\n",
    "    X_train.loc[:, col]= le_x.fit_transform(X_train[col])\n",
    "    encoders.append(le_x)\n"
   ]
  },
  {
   "cell_type": "markdown",
   "metadata": {},
   "source": [
    "Multivalued categorical attributes are<br>\n",
    "a 4 to 7, a13"
   ]
  },
  {
   "cell_type": "code",
   "execution_count": 10,
   "metadata": {},
   "outputs": [
    {
     "name": "stdout",
     "output_type": "stream",
     "text": [
      "<class 'numpy.ndarray'>\n",
      "(552, 32)\n"
     ]
    }
   ],
   "source": [
    "multivalcatcolumns= ['a4', 'a5', 'a6', 'a7', 'a13']\n",
    "\n",
    "ohe= OneHotEncoder(sparse=False, handle_unknown= 'ignore')\n",
    "ohe_res= ohe.fit_transform(X_train[multivalcatcolumns])\n",
    "print(type(ohe_res))\n",
    "print(ohe_res.shape)"
   ]
  },
  {
   "cell_type": "code",
   "execution_count": 11,
   "metadata": {},
   "outputs": [
    {
     "name": "stdout",
     "output_type": "stream",
     "text": [
      "(552, 15)\n"
     ]
    }
   ],
   "source": [
    "print(X_train.shape)\n",
    "X_train.drop(multivalcatcolumns, axis=1, inplace= True)\n"
   ]
  },
  {
   "cell_type": "code",
   "execution_count": 12,
   "metadata": {},
   "outputs": [
    {
     "name": "stdout",
     "output_type": "stream",
     "text": [
      "(552, 42)\n"
     ]
    }
   ],
   "source": [
    "temp_df= pd.concat([X_train, pd.DataFrame(ohe_res)], axis=1)\n",
    "print(temp_df.shape)"
   ]
  },
  {
   "cell_type": "code",
   "execution_count": 13,
   "metadata": {},
   "outputs": [
    {
     "name": "stdout",
     "output_type": "stream",
     "text": [
      "(552, 42)\n"
     ]
    }
   ],
   "source": [
    "X_train= temp_df\n",
    "print(X_train.shape)"
   ]
  },
  {
   "cell_type": "code",
   "execution_count": 14,
   "metadata": {},
   "outputs": [
    {
     "name": "stdout",
     "output_type": "stream",
     "text": [
      "(552, 42)\n"
     ]
    }
   ],
   "source": [
    "scaler= StandardScaler()\n",
    "X_train_scaled= scaler.fit_transform(X_train)\n",
    "print(X_train_scaled.shape)"
   ]
  },
  {
   "cell_type": "code",
   "execution_count": null,
   "metadata": {},
   "outputs": [],
   "source": []
  },
  {
   "cell_type": "code",
   "execution_count": 15,
   "metadata": {},
   "outputs": [],
   "source": [
    "from sklearn.svm import SVC\n",
    "from sklearn.model_selection import GridSearchCV"
   ]
  },
  {
   "cell_type": "code",
   "execution_count": 16,
   "metadata": {},
   "outputs": [
    {
     "data": {
      "text/plain": [
       "GridSearchCV(cv=4, error_score=nan,\n",
       "             estimator=SVC(C=1.0, break_ties=False, cache_size=200,\n",
       "                           class_weight=None, coef0=0.0,\n",
       "                           decision_function_shape='ovr', degree=3,\n",
       "                           gamma='scale', kernel='rbf', max_iter=-1,\n",
       "                           probability=False, random_state=None, shrinking=True,\n",
       "                           tol=0.001, verbose=False),\n",
       "             iid='deprecated', n_jobs=None,\n",
       "             param_grid={'C': [10, 1, 0.1, 0.01, 0.001], 'degree': [2, 3, 4, 5],\n",
       "                         'kernel': ['rbf', 'poly', 'sigmoid']},\n",
       "             pre_dispatch='2*n_jobs', refit=True, return_train_score=False,\n",
       "             scoring=None, verbose=0)"
      ]
     },
     "execution_count": 16,
     "metadata": {},
     "output_type": "execute_result"
    }
   ],
   "source": [
    "svc_mod= SVC()\n",
    "parameters= {'C':[10, 1, 0.1, 0.01, 0.001], 'kernel':['rbf', 'poly', 'sigmoid'], 'degree':[2,3,4,5]}\n",
    "grid_svc= GridSearchCV(svc_mod, param_grid=parameters,cv =4)\n",
    "grid_svc.fit(X_train_scaled, y_train_np)"
   ]
  },
  {
   "cell_type": "code",
   "execution_count": 17,
   "metadata": {},
   "outputs": [
    {
     "name": "stdout",
     "output_type": "stream",
     "text": [
      "SVC(C=0.1, break_ties=False, cache_size=200, class_weight=None, coef0=0.0,\n",
      "    decision_function_shape='ovr', degree=2, gamma='scale', kernel='sigmoid',\n",
      "    max_iter=-1, probability=False, random_state=None, shrinking=True,\n",
      "    tol=0.001, verbose=False)\n",
      "{'C': 0.1, 'degree': 2, 'kernel': 'sigmoid'}\n",
      "0.855072463768116\n"
     ]
    }
   ],
   "source": [
    "print(grid_svc.best_estimator_)\n",
    "print(grid_svc.best_params_)\n",
    "print(grid_svc.best_score_)\n"
   ]
  },
  {
   "cell_type": "code",
   "execution_count": 18,
   "metadata": {},
   "outputs": [],
   "source": [
    "X_test= pd.read_csv(\"/home/souvik/ML_projects/P1_Credit_card_Approval/data/X_test.csv\")\n",
    "y_test= pd.read_csv(\"/home/souvik/ML_projects/P1_Credit_card_Approval/data/y_test.csv\")\n",
    "\n",
    "X_test.replace('?', np.NAN, inplace=True)\n",
    "\n",
    "X_test['a2']= X_test['a2'].astype('float64')\n",
    "X_test['a11']= X_test['a11'].astype('float64')\n",
    "X_test['a14']= X_test['a14'].astype('float64')\n",
    "X_test['a15']= X_test['a15'].astype('float64')\n",
    "\n",
    "\n",
    "X_test.fillna(X_test.mean(), inplace=True)\n",
    "\n",
    "for col in X_test.columns:\n",
    "    if X_test[col].dtype == 'object':\n",
    "        X_test[col].fillna(X_test[col].value_counts().idxmax(), inplace= True)\n",
    "    \n"
   ]
  },
  {
   "cell_type": "code",
   "execution_count": 19,
   "metadata": {},
   "outputs": [
    {
     "data": {
      "text/html": [
       "<div>\n",
       "<style scoped>\n",
       "    .dataframe tbody tr th:only-of-type {\n",
       "        vertical-align: middle;\n",
       "    }\n",
       "\n",
       "    .dataframe tbody tr th {\n",
       "        vertical-align: top;\n",
       "    }\n",
       "\n",
       "    .dataframe thead th {\n",
       "        text-align: right;\n",
       "    }\n",
       "</style>\n",
       "<table border=\"1\" class=\"dataframe\">\n",
       "  <thead>\n",
       "    <tr style=\"text-align: right;\">\n",
       "      <th></th>\n",
       "      <th>a1</th>\n",
       "      <th>a2</th>\n",
       "      <th>a3</th>\n",
       "      <th>a4</th>\n",
       "      <th>a5</th>\n",
       "      <th>a6</th>\n",
       "      <th>a7</th>\n",
       "      <th>a8</th>\n",
       "      <th>a9</th>\n",
       "      <th>a10</th>\n",
       "      <th>a11</th>\n",
       "      <th>a12</th>\n",
       "      <th>a13</th>\n",
       "      <th>a14</th>\n",
       "      <th>a15</th>\n",
       "    </tr>\n",
       "  </thead>\n",
       "  <tbody>\n",
       "    <tr>\n",
       "      <th>0</th>\n",
       "      <td>b</td>\n",
       "      <td>22.00</td>\n",
       "      <td>7.835</td>\n",
       "      <td>y</td>\n",
       "      <td>p</td>\n",
       "      <td>i</td>\n",
       "      <td>bb</td>\n",
       "      <td>0.165</td>\n",
       "      <td>f</td>\n",
       "      <td>f</td>\n",
       "      <td>0.0</td>\n",
       "      <td>t</td>\n",
       "      <td>g</td>\n",
       "      <td>207.881481</td>\n",
       "      <td>0.0</td>\n",
       "    </tr>\n",
       "    <tr>\n",
       "      <th>1</th>\n",
       "      <td>a</td>\n",
       "      <td>18.42</td>\n",
       "      <td>9.250</td>\n",
       "      <td>u</td>\n",
       "      <td>g</td>\n",
       "      <td>q</td>\n",
       "      <td>v</td>\n",
       "      <td>1.210</td>\n",
       "      <td>t</td>\n",
       "      <td>t</td>\n",
       "      <td>4.0</td>\n",
       "      <td>f</td>\n",
       "      <td>g</td>\n",
       "      <td>60.000000</td>\n",
       "      <td>540.0</td>\n",
       "    </tr>\n",
       "    <tr>\n",
       "      <th>2</th>\n",
       "      <td>b</td>\n",
       "      <td>39.42</td>\n",
       "      <td>1.710</td>\n",
       "      <td>y</td>\n",
       "      <td>p</td>\n",
       "      <td>m</td>\n",
       "      <td>v</td>\n",
       "      <td>0.165</td>\n",
       "      <td>f</td>\n",
       "      <td>f</td>\n",
       "      <td>0.0</td>\n",
       "      <td>f</td>\n",
       "      <td>s</td>\n",
       "      <td>400.000000</td>\n",
       "      <td>0.0</td>\n",
       "    </tr>\n",
       "    <tr>\n",
       "      <th>3</th>\n",
       "      <td>b</td>\n",
       "      <td>22.92</td>\n",
       "      <td>3.165</td>\n",
       "      <td>y</td>\n",
       "      <td>p</td>\n",
       "      <td>c</td>\n",
       "      <td>v</td>\n",
       "      <td>0.165</td>\n",
       "      <td>f</td>\n",
       "      <td>f</td>\n",
       "      <td>0.0</td>\n",
       "      <td>f</td>\n",
       "      <td>g</td>\n",
       "      <td>160.000000</td>\n",
       "      <td>1058.0</td>\n",
       "    </tr>\n",
       "    <tr>\n",
       "      <th>4</th>\n",
       "      <td>b</td>\n",
       "      <td>28.75</td>\n",
       "      <td>1.165</td>\n",
       "      <td>u</td>\n",
       "      <td>g</td>\n",
       "      <td>k</td>\n",
       "      <td>v</td>\n",
       "      <td>0.500</td>\n",
       "      <td>t</td>\n",
       "      <td>f</td>\n",
       "      <td>0.0</td>\n",
       "      <td>f</td>\n",
       "      <td>s</td>\n",
       "      <td>280.000000</td>\n",
       "      <td>0.0</td>\n",
       "    </tr>\n",
       "  </tbody>\n",
       "</table>\n",
       "</div>"
      ],
      "text/plain": [
       "  a1     a2     a3 a4 a5 a6  a7     a8 a9 a10  a11 a12 a13         a14     a15\n",
       "0  b  22.00  7.835  y  p  i  bb  0.165  f   f  0.0   t   g  207.881481     0.0\n",
       "1  a  18.42  9.250  u  g  q   v  1.210  t   t  4.0   f   g   60.000000   540.0\n",
       "2  b  39.42  1.710  y  p  m   v  0.165  f   f  0.0   f   s  400.000000     0.0\n",
       "3  b  22.92  3.165  y  p  c   v  0.165  f   f  0.0   f   g  160.000000  1058.0\n",
       "4  b  28.75  1.165  u  g  k   v  0.500  t   f  0.0   f   s  280.000000     0.0"
      ]
     },
     "execution_count": 19,
     "metadata": {},
     "output_type": "execute_result"
    }
   ],
   "source": [
    "X_test.head()"
   ]
  },
  {
   "cell_type": "code",
   "execution_count": 20,
   "metadata": {},
   "outputs": [],
   "source": [
    "X_test.loc[((X_test['a1']!='a') & (X_test['a1']!='b')),'a1']='a'"
   ]
  },
  {
   "cell_type": "code",
   "execution_count": 21,
   "metadata": {},
   "outputs": [
    {
     "data": {
      "text/html": [
       "<div>\n",
       "<style scoped>\n",
       "    .dataframe tbody tr th:only-of-type {\n",
       "        vertical-align: middle;\n",
       "    }\n",
       "\n",
       "    .dataframe tbody tr th {\n",
       "        vertical-align: top;\n",
       "    }\n",
       "\n",
       "    .dataframe thead th {\n",
       "        text-align: right;\n",
       "    }\n",
       "</style>\n",
       "<table border=\"1\" class=\"dataframe\">\n",
       "  <thead>\n",
       "    <tr style=\"text-align: right;\">\n",
       "      <th></th>\n",
       "      <th>a1</th>\n",
       "      <th>a2</th>\n",
       "      <th>a3</th>\n",
       "      <th>a4</th>\n",
       "      <th>a5</th>\n",
       "      <th>a6</th>\n",
       "      <th>a7</th>\n",
       "      <th>a8</th>\n",
       "      <th>a9</th>\n",
       "      <th>a10</th>\n",
       "      <th>a11</th>\n",
       "      <th>a12</th>\n",
       "      <th>a13</th>\n",
       "      <th>a14</th>\n",
       "      <th>a15</th>\n",
       "    </tr>\n",
       "  </thead>\n",
       "  <tbody>\n",
       "  </tbody>\n",
       "</table>\n",
       "</div>"
      ],
      "text/plain": [
       "Empty DataFrame\n",
       "Columns: [a1, a2, a3, a4, a5, a6, a7, a8, a9, a10, a11, a12, a13, a14, a15]\n",
       "Index: []"
      ]
     },
     "execution_count": 21,
     "metadata": {},
     "output_type": "execute_result"
    }
   ],
   "source": [
    "X_test[(X_test['a1']!='a') & (X_test['a1']!='b')]\n",
    "#X_test['a1'].value_counts()"
   ]
  },
  {
   "cell_type": "code",
   "execution_count": null,
   "metadata": {},
   "outputs": [],
   "source": [
    "X_test['a10'].value_counts()"
   ]
  },
  {
   "cell_type": "code",
   "execution_count": null,
   "metadata": {},
   "outputs": [],
   "source": [
    "X_test['a12'].value_counts()"
   ]
  },
  {
   "cell_type": "code",
   "execution_count": 22,
   "metadata": {},
   "outputs": [
    {
     "name": "stdout",
     "output_type": "stream",
     "text": [
      "(138, 47)\n"
     ]
    }
   ],
   "source": [
    "for col, encoder in zip(['a1', 'a9', 'a10', 'a12'], encoders):\n",
    "    X_test.loc[:, col]= encoder.transform(X_test[col])\n",
    "    \n",
    "    \n",
    "ohe_res= ohe.transform(X_test[multivalcatcolumns])\n",
    "#X_test.drop(multivalcatcolumns, axis=1, inplace= True)\n",
    "temp_df= pd.concat([X_test, pd.DataFrame(ohe_res)], axis=1)\n",
    "print(temp_df.shape)"
   ]
  },
  {
   "cell_type": "code",
   "execution_count": 23,
   "metadata": {},
   "outputs": [
    {
     "data": {
      "text/plain": [
       "(138, 42)"
      ]
     },
     "execution_count": 23,
     "metadata": {},
     "output_type": "execute_result"
    }
   ],
   "source": [
    "temp_df.drop(multivalcatcolumns, axis=1, inplace= True)\n",
    "temp_df.shape"
   ]
  },
  {
   "cell_type": "code",
   "execution_count": 24,
   "metadata": {},
   "outputs": [],
   "source": [
    "#le= LabelEncoder()\n",
    "y_test_np= y_test['a16'].values\n",
    "y_test_np= le_y.fit_transform(y_test_np)"
   ]
  },
  {
   "cell_type": "code",
   "execution_count": 25,
   "metadata": {},
   "outputs": [],
   "source": [
    "from sklearn.metrics import precision_recall_fscore_support\n",
    "best_svc= grid_svc.best_estimator_\n",
    "X_train_scaled= scaler.transform(temp_df)"
   ]
  },
  {
   "cell_type": "code",
   "execution_count": 26,
   "metadata": {},
   "outputs": [
    {
     "name": "stdout",
     "output_type": "stream",
     "text": [
      "[0.81818182 0.95180723] [0.91836735 0.88764045] [0.86538462 0.91860465] [49 89]\n"
     ]
    }
   ],
   "source": [
    "y_pred= best_svc.predict(X_train_scaled)\n",
    "#y_pred_proba= best_svc.predict_proba(temp_df)\n",
    "\n",
    "precision, recall, fscore, support= precision_recall_fscore_support(y_test_np, y_pred)\n",
    "print(precision, recall, fscore, support)"
   ]
  },
  {
   "cell_type": "code",
   "execution_count": 28,
   "metadata": {},
   "outputs": [
    {
     "data": {
      "text/plain": [
       "0.8985507246376812"
      ]
     },
     "execution_count": 28,
     "metadata": {},
     "output_type": "execute_result"
    }
   ],
   "source": [
    "best_svc.score(X_train_scaled, y_test_np)"
   ]
  },
  {
   "cell_type": "code",
   "execution_count": null,
   "metadata": {},
   "outputs": [],
   "source": []
  },
  {
   "cell_type": "code",
   "execution_count": null,
   "metadata": {},
   "outputs": [],
   "source": []
  }
 ],
 "metadata": {
  "kernelspec": {
   "display_name": "tensorflow",
   "language": "python",
   "name": "tensorflow"
  },
  "language_info": {
   "codemirror_mode": {
    "name": "ipython",
    "version": 3
   },
   "file_extension": ".py",
   "mimetype": "text/x-python",
   "name": "python",
   "nbconvert_exporter": "python",
   "pygments_lexer": "ipython3",
   "version": "3.6.9"
  }
 },
 "nbformat": 4,
 "nbformat_minor": 4
}
