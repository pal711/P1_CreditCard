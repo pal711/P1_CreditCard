{
 "cells": [
  {
   "cell_type": "code",
   "execution_count": 37,
   "metadata": {},
   "outputs": [],
   "source": [
    "import numpy as np\n",
    "import pandas as pd\n",
    "import sklearn\n",
    "from sklearn.preprocessing import StandardScaler\n",
    "from sklearn.model_selection import train_test_split\n",
    "from sklearn.preprocessing import LabelEncoder, OneHotEncoder\n",
    "from sklearn.model_selection import GridSearchCV\n",
    "from sklearn.svm import SVC\n",
    "from sklearn.base import BaseEstimator, TransformerMixin\n",
    "from sklearn.pipeline import Pipeline\n",
    "from sklearn.linear_model import SGDClassifier, LogisticRegression\n",
    "from sklearn.ensemble import VotingClassifier\n",
    "from sklearn.metrics import accuracy_score\n",
    "from sklearn.model_selection import cross_val_score"
   ]
  },
  {
   "cell_type": "code",
   "execution_count": 9,
   "metadata": {},
   "outputs": [],
   "source": [
    "class NullHandler_cc(BaseEstimator, TransformerMixin):\n",
    "    def __init__(self, num_fill='mean', cat_fill= 'most_frequent'):\n",
    "        self.num_fill= num_fill\n",
    "        self.cat_fill= cat_fill\n",
    "        \n",
    "        \n",
    "    def fit(self,df,num_cols=['a2', 'a3', 'a8', 'a11', 'a14', 'a15']):\n",
    "        if type(df) != pd.DataFrame:\n",
    "            raise TypeError(\"Pandas DataFrame Expected\")\n",
    "        \n",
    "        self.df= df\n",
    "        self.num_cols= num_cols\n",
    "        df.columns= list(map(str.lower, list(df.columns)))\n",
    "        self.cat_cols= list( set(list(df.columns)) - set(self.num_cols))\n",
    "        \n",
    "        self.cat_fill_vals={}\n",
    "        for col in self.cat_cols:\n",
    "            self.cat_fill_vals[col]= df[col].value_counts().idxmax()\n",
    "        \n",
    "        df[self.num_cols]= df[self.num_cols].replace('?', np.NAN)\n",
    "        df['a2']= df['a2'].astype('float64')\n",
    "        df['a11']= df['a11'].astype('float64')\n",
    "        df['a14']= df['a14'].astype('float64')\n",
    "        df['a15']= df['a15'].astype('float64')\n",
    "        self.num_fill_vals= dict(df.mean())\n",
    "        \n",
    "        return self\n",
    "    \n",
    "    def transform(self, df):\n",
    "        df.replace('?', np.NAN, inplace= True)\n",
    "        df['a2']= df['a2'].astype('float64')\n",
    "        df['a11']= df['a11'].astype('float64')\n",
    "        df['a14']= df['a14'].astype('float64')\n",
    "        df['a15']= df['a15'].astype('float64')\n",
    "        self.cat_fill_vals.update(self.num_fill_vals)\n",
    "        fill_vals= self.cat_fill_vals\n",
    "        #print(\"fill_vals={}\".format(fill_vals))\n",
    "        df_ = df.fillna(value= fill_vals)\n",
    "        \n",
    "        return df_\n",
    "        \n",
    "        "
   ]
  },
  {
   "cell_type": "code",
   "execution_count": 15,
   "metadata": {},
   "outputs": [],
   "source": [
    "class Cat_columns_handler_cc(BaseEstimator, TransformerMixin):\n",
    "    \n",
    "    def __init__(self):\n",
    "        pass\n",
    "        \n",
    "        \n",
    "    def fit(self, df, binary_cols=['a1', 'a9', 'a10', 'a12'], multivalcatcolumns= ['a4', 'a5', 'a6', 'a7', 'a13']):\n",
    "        self.binary_cols= binary_cols\n",
    "        self.multivalcatcolumns= multivalcatcolumns\n",
    "        \n",
    "        if type(df) != pd.DataFrame:\n",
    "            raise TypeError(\"Pandas DataFrame Expected\")\n",
    "        \n",
    "        self.binary_encoders= []\n",
    "        \n",
    "        for col in self.binary_cols:\n",
    "            le_enc= LabelEncoder()\n",
    "            le_enc.fit(df[col])\n",
    "            self.binary_encoders.append(le_enc)\n",
    "            del le_enc\n",
    "            \n",
    "        \n",
    "        self.ohe= OneHotEncoder(sparse=False, handle_unknown= 'ignore')\n",
    "        self.ohe.fit(df[self.multivalcatcolumns])\n",
    "        \n",
    "        return self\n",
    "    \n",
    "    def transform(self, df):\n",
    "        if type(df) != pd.DataFrame:\n",
    "            raise TypeError(\"Pandas DataFrame Expected\")\n",
    "        \n",
    "        for col, le_enc in zip(self.binary_cols, self.binary_encoders):\n",
    "            df.loc[:,col]= le_enc.transform(df[col])\n",
    "        \n",
    "        temp_df= pd.DataFrame(self.ohe.transform(df[self.multivalcatcolumns]))\n",
    "        #print(temp_df.shape)\n",
    "        df.drop(self.multivalcatcolumns, axis=1 , inplace=True)\n",
    "        #print(df.shape)\n",
    "        return pd.concat([df, temp_df], axis= 1)\n",
    "    \n",
    "    "
   ]
  },
  {
   "cell_type": "code",
   "execution_count": 11,
   "metadata": {},
   "outputs": [],
   "source": [
    " class Encoding_y(BaseEstimator, TransformerMixin):\n",
    "        def __init__(self):\n",
    "            pass\n",
    "        \n",
    "        def fit(self, y):\n",
    "            self.le= LabelEncoder()\n",
    "            self.le.fit(y)\n",
    "            return self\n",
    "        \n",
    "        def transform(self, y):\n",
    "            return self.le.transform(y)"
   ]
  },
  {
   "cell_type": "code",
   "execution_count": 12,
   "metadata": {},
   "outputs": [
    {
     "data": {
      "text/html": [
       "<div>\n",
       "<style scoped>\n",
       "    .dataframe tbody tr th:only-of-type {\n",
       "        vertical-align: middle;\n",
       "    }\n",
       "\n",
       "    .dataframe tbody tr th {\n",
       "        vertical-align: top;\n",
       "    }\n",
       "\n",
       "    .dataframe thead th {\n",
       "        text-align: right;\n",
       "    }\n",
       "</style>\n",
       "<table border=\"1\" class=\"dataframe\">\n",
       "  <thead>\n",
       "    <tr style=\"text-align: right;\">\n",
       "      <th></th>\n",
       "      <th>a1</th>\n",
       "      <th>a2</th>\n",
       "      <th>a3</th>\n",
       "      <th>a4</th>\n",
       "      <th>a5</th>\n",
       "      <th>a6</th>\n",
       "      <th>a7</th>\n",
       "      <th>a8</th>\n",
       "      <th>a9</th>\n",
       "      <th>a10</th>\n",
       "      <th>a11</th>\n",
       "      <th>a12</th>\n",
       "      <th>a13</th>\n",
       "      <th>a14</th>\n",
       "      <th>a15</th>\n",
       "    </tr>\n",
       "  </thead>\n",
       "  <tbody>\n",
       "    <tr>\n",
       "      <th>0</th>\n",
       "      <td>b</td>\n",
       "      <td>20.17</td>\n",
       "      <td>8.170</td>\n",
       "      <td>u</td>\n",
       "      <td>g</td>\n",
       "      <td>aa</td>\n",
       "      <td>v</td>\n",
       "      <td>1.960</td>\n",
       "      <td>t</td>\n",
       "      <td>t</td>\n",
       "      <td>14</td>\n",
       "      <td>f</td>\n",
       "      <td>g</td>\n",
       "      <td>00060</td>\n",
       "      <td>158</td>\n",
       "    </tr>\n",
       "    <tr>\n",
       "      <th>1</th>\n",
       "      <td>a</td>\n",
       "      <td>27.58</td>\n",
       "      <td>3.000</td>\n",
       "      <td>u</td>\n",
       "      <td>g</td>\n",
       "      <td>m</td>\n",
       "      <td>v</td>\n",
       "      <td>2.790</td>\n",
       "      <td>f</td>\n",
       "      <td>t</td>\n",
       "      <td>1</td>\n",
       "      <td>t</td>\n",
       "      <td>g</td>\n",
       "      <td>00280</td>\n",
       "      <td>10</td>\n",
       "    </tr>\n",
       "    <tr>\n",
       "      <th>2</th>\n",
       "      <td>b</td>\n",
       "      <td>39.58</td>\n",
       "      <td>13.915</td>\n",
       "      <td>u</td>\n",
       "      <td>g</td>\n",
       "      <td>w</td>\n",
       "      <td>v</td>\n",
       "      <td>8.625</td>\n",
       "      <td>t</td>\n",
       "      <td>t</td>\n",
       "      <td>6</td>\n",
       "      <td>t</td>\n",
       "      <td>g</td>\n",
       "      <td>00070</td>\n",
       "      <td>0</td>\n",
       "    </tr>\n",
       "    <tr>\n",
       "      <th>3</th>\n",
       "      <td>b</td>\n",
       "      <td>41.17</td>\n",
       "      <td>1.250</td>\n",
       "      <td>y</td>\n",
       "      <td>p</td>\n",
       "      <td>w</td>\n",
       "      <td>v</td>\n",
       "      <td>0.250</td>\n",
       "      <td>f</td>\n",
       "      <td>f</td>\n",
       "      <td>0</td>\n",
       "      <td>f</td>\n",
       "      <td>g</td>\n",
       "      <td>00000</td>\n",
       "      <td>195</td>\n",
       "    </tr>\n",
       "    <tr>\n",
       "      <th>4</th>\n",
       "      <td>b</td>\n",
       "      <td>22.25</td>\n",
       "      <td>0.460</td>\n",
       "      <td>u</td>\n",
       "      <td>g</td>\n",
       "      <td>k</td>\n",
       "      <td>v</td>\n",
       "      <td>0.125</td>\n",
       "      <td>f</td>\n",
       "      <td>f</td>\n",
       "      <td>0</td>\n",
       "      <td>t</td>\n",
       "      <td>g</td>\n",
       "      <td>00280</td>\n",
       "      <td>55</td>\n",
       "    </tr>\n",
       "  </tbody>\n",
       "</table>\n",
       "</div>"
      ],
      "text/plain": [
       "  a1     a2      a3 a4 a5  a6 a7     a8 a9 a10  a11 a12 a13    a14  a15\n",
       "0  b  20.17   8.170  u  g  aa  v  1.960  t   t   14   f   g  00060  158\n",
       "1  a  27.58   3.000  u  g   m  v  2.790  f   t    1   t   g  00280   10\n",
       "2  b  39.58  13.915  u  g   w  v  8.625  t   t    6   t   g  00070    0\n",
       "3  b  41.17   1.250  y  p   w  v  0.250  f   f    0   f   g  00000  195\n",
       "4  b  22.25   0.460  u  g   k  v  0.125  f   f    0   t   g  00280   55"
      ]
     },
     "execution_count": 12,
     "metadata": {},
     "output_type": "execute_result"
    }
   ],
   "source": [
    "X_train= pd.read_csv(\"/home/souvik/ML_projects/P1_CreditCard/data/X_train.csv\")\n",
    "y_train= pd.read_csv(\"/home/souvik/ML_projects/P1_CreditCard/data/y_train.csv\")\n",
    "X_train.head()"
   ]
  },
  {
   "cell_type": "code",
   "execution_count": 13,
   "metadata": {},
   "outputs": [
    {
     "name": "stderr",
     "output_type": "stream",
     "text": [
      "/home/souvik/envs/tensorflow/lib/python3.6/site-packages/sklearn/preprocessing/_label.py:235: DataConversionWarning: A column-vector y was passed when a 1d array was expected. Please change the shape of y to (n_samples, ), for example using ravel().\n",
      "  y = column_or_1d(y, warn=True)\n"
     ]
    },
    {
     "data": {
      "text/plain": [
       "Encoding_y()"
      ]
     },
     "execution_count": 13,
     "metadata": {},
     "output_type": "execute_result"
    }
   ],
   "source": [
    "enc_y= Encoding_y()\n",
    "enc_y.fit(y_train)\n",
    "#y_train= enc_y.transform(y_train)"
   ]
  },
  {
   "cell_type": "code",
   "execution_count": 14,
   "metadata": {},
   "outputs": [
    {
     "name": "stdout",
     "output_type": "stream",
     "text": [
      "(552, 32)\n",
      "(552, 10)\n",
      "(552, 32)\n",
      "(552, 10)\n"
     ]
    },
    {
     "name": "stderr",
     "output_type": "stream",
     "text": [
      "/home/souvik/envs/tensorflow/lib/python3.6/site-packages/sklearn/preprocessing/_label.py:268: DataConversionWarning: A column-vector y was passed when a 1d array was expected. Please change the shape of y to (n_samples, ), for example using ravel().\n",
      "  y = column_or_1d(y, warn=True)\n"
     ]
    }
   ],
   "source": [
    "non_scaled_pipeline= Pipeline([\n",
    "    ('NullHandler', NullHandler_cc()),\n",
    "    ('CatHandler', Cat_columns_handler_cc())\n",
    "])\n",
    "\n",
    "scaled_pipeline= Pipeline([\n",
    "    ('NullHandler', NullHandler_cc()),\n",
    "    ('CatHandler', Cat_columns_handler_cc()),\n",
    "    ('Scaler', StandardScaler())\n",
    "])\n",
    "\n",
    "X_train_not_scaled= non_scaled_pipeline.fit_transform(X_train)\n",
    "X_train_scaled= scaled_pipeline.fit_transform(X_train)\n",
    "y_train_enc= enc_y.transform(y_train)"
   ]
  },
  {
   "cell_type": "code",
   "execution_count": 49,
   "metadata": {},
   "outputs": [
    {
     "name": "stdout",
     "output_type": "stream",
     "text": [
      "{'C': 0.1, 'degree': 1, 'kernel': 'poly'}\n",
      "0.8623188405797102\n"
     ]
    }
   ],
   "source": [
    "svc_mod= SVC(random_state=711, probability=True)\n",
    "parameters= {'C':[10, 1, 0.1, 0.01, 0.001], 'kernel':['rbf', 'poly', 'sigmoid'], 'degree':[0.5,1,1.5,2]}\n",
    "grid_svc= GridSearchCV(svc_mod, param_grid=parameters,cv =4)\n",
    "grid_svc.fit(X_train_scaled, y_train_enc)\n",
    "print(grid_svc.best_params_)\n",
    "print(grid_svc.best_score_)\n",
    "best_svc= grid_svc.best_estimator_"
   ]
  },
  {
   "cell_type": "code",
   "execution_count": 50,
   "metadata": {},
   "outputs": [
    {
     "name": "stdout",
     "output_type": "stream",
     "text": [
      "{'alpha': 0.01, 'l1_ratio': 0.3, 'penalty': 'elasticnet'}\n",
      "0.8496376811594204\n"
     ]
    }
   ],
   "source": [
    "sgd_clf= SGDClassifier(loss='log',random_state=711)\n",
    "parameters={'penalty':['elasticnet'], 'alpha':[0.0001, 0.001, 0.01], 'l1_ratio':[0.0,0.05,0.1,0.3]}\n",
    "grid_sgd_clf= GridSearchCV(sgd_clf, param_grid=parameters,cv =4)\n",
    "grid_sgd_clf.fit(X_train_scaled, y_train_enc)\n",
    "print(grid_sgd_clf.best_params_)\n",
    "print(grid_sgd_clf.best_score_)\n",
    "best_sgd_clf= grid_sgd_clf.best_estimator_"
   ]
  },
  {
   "cell_type": "code",
   "execution_count": 52,
   "metadata": {},
   "outputs": [
    {
     "name": "stderr",
     "output_type": "stream",
     "text": [
      "/home/souvik/envs/tensorflow/lib/python3.6/site-packages/sklearn/linear_model/_sag.py:330: ConvergenceWarning: The max_iter was reached which means the coef_ did not converge\n",
      "  \"the coef_ did not converge\", ConvergenceWarning)\n",
      "/home/souvik/envs/tensorflow/lib/python3.6/site-packages/sklearn/linear_model/_sag.py:330: ConvergenceWarning: The max_iter was reached which means the coef_ did not converge\n",
      "  \"the coef_ did not converge\", ConvergenceWarning)\n",
      "/home/souvik/envs/tensorflow/lib/python3.6/site-packages/sklearn/linear_model/_sag.py:330: ConvergenceWarning: The max_iter was reached which means the coef_ did not converge\n",
      "  \"the coef_ did not converge\", ConvergenceWarning)\n",
      "/home/souvik/envs/tensorflow/lib/python3.6/site-packages/sklearn/linear_model/_sag.py:330: ConvergenceWarning: The max_iter was reached which means the coef_ did not converge\n",
      "  \"the coef_ did not converge\", ConvergenceWarning)\n",
      "/home/souvik/envs/tensorflow/lib/python3.6/site-packages/sklearn/linear_model/_sag.py:330: ConvergenceWarning: The max_iter was reached which means the coef_ did not converge\n",
      "  \"the coef_ did not converge\", ConvergenceWarning)\n",
      "/home/souvik/envs/tensorflow/lib/python3.6/site-packages/sklearn/linear_model/_sag.py:330: ConvergenceWarning: The max_iter was reached which means the coef_ did not converge\n",
      "  \"the coef_ did not converge\", ConvergenceWarning)\n",
      "/home/souvik/envs/tensorflow/lib/python3.6/site-packages/sklearn/linear_model/_sag.py:330: ConvergenceWarning: The max_iter was reached which means the coef_ did not converge\n",
      "  \"the coef_ did not converge\", ConvergenceWarning)\n",
      "/home/souvik/envs/tensorflow/lib/python3.6/site-packages/sklearn/linear_model/_sag.py:330: ConvergenceWarning: The max_iter was reached which means the coef_ did not converge\n",
      "  \"the coef_ did not converge\", ConvergenceWarning)\n",
      "/home/souvik/envs/tensorflow/lib/python3.6/site-packages/sklearn/linear_model/_sag.py:330: ConvergenceWarning: The max_iter was reached which means the coef_ did not converge\n",
      "  \"the coef_ did not converge\", ConvergenceWarning)\n",
      "/home/souvik/envs/tensorflow/lib/python3.6/site-packages/sklearn/linear_model/_sag.py:330: ConvergenceWarning: The max_iter was reached which means the coef_ did not converge\n",
      "  \"the coef_ did not converge\", ConvergenceWarning)\n",
      "/home/souvik/envs/tensorflow/lib/python3.6/site-packages/sklearn/linear_model/_sag.py:330: ConvergenceWarning: The max_iter was reached which means the coef_ did not converge\n",
      "  \"the coef_ did not converge\", ConvergenceWarning)\n",
      "/home/souvik/envs/tensorflow/lib/python3.6/site-packages/sklearn/linear_model/_sag.py:330: ConvergenceWarning: The max_iter was reached which means the coef_ did not converge\n",
      "  \"the coef_ did not converge\", ConvergenceWarning)\n",
      "/home/souvik/envs/tensorflow/lib/python3.6/site-packages/sklearn/linear_model/_sag.py:330: ConvergenceWarning: The max_iter was reached which means the coef_ did not converge\n",
      "  \"the coef_ did not converge\", ConvergenceWarning)\n",
      "/home/souvik/envs/tensorflow/lib/python3.6/site-packages/sklearn/linear_model/_sag.py:330: ConvergenceWarning: The max_iter was reached which means the coef_ did not converge\n",
      "  \"the coef_ did not converge\", ConvergenceWarning)\n",
      "/home/souvik/envs/tensorflow/lib/python3.6/site-packages/sklearn/linear_model/_sag.py:330: ConvergenceWarning: The max_iter was reached which means the coef_ did not converge\n",
      "  \"the coef_ did not converge\", ConvergenceWarning)\n",
      "/home/souvik/envs/tensorflow/lib/python3.6/site-packages/sklearn/linear_model/_sag.py:330: ConvergenceWarning: The max_iter was reached which means the coef_ did not converge\n",
      "  \"the coef_ did not converge\", ConvergenceWarning)\n",
      "/home/souvik/envs/tensorflow/lib/python3.6/site-packages/sklearn/linear_model/_sag.py:330: ConvergenceWarning: The max_iter was reached which means the coef_ did not converge\n",
      "  \"the coef_ did not converge\", ConvergenceWarning)\n"
     ]
    },
    {
     "name": "stdout",
     "output_type": "stream",
     "text": [
      "{'C': 0.01, 'solver': 'newton-cg'}\n",
      "0.8496376811594202\n"
     ]
    },
    {
     "name": "stderr",
     "output_type": "stream",
     "text": [
      "/home/souvik/envs/tensorflow/lib/python3.6/site-packages/sklearn/linear_model/_sag.py:330: ConvergenceWarning: The max_iter was reached which means the coef_ did not converge\n",
      "  \"the coef_ did not converge\", ConvergenceWarning)\n",
      "/home/souvik/envs/tensorflow/lib/python3.6/site-packages/sklearn/linear_model/_sag.py:330: ConvergenceWarning: The max_iter was reached which means the coef_ did not converge\n",
      "  \"the coef_ did not converge\", ConvergenceWarning)\n"
     ]
    }
   ],
   "source": [
    "log_reg= LogisticRegression(random_state=711)\n",
    "parameters={'solver':['newton-cg', 'lbfgs', 'liblinear', 'sag', 'saga'],\n",
    "           'C':[0.0001,0.001,0.01,0.1, 0.5,1,]}\n",
    "grid_log_reg= GridSearchCV(log_reg, param_grid=parameters,cv =4)\n",
    "grid_log_reg.fit(X_train_scaled, y_train_enc)\n",
    "print(grid_log_reg.best_params_)\n",
    "print(grid_log_reg.best_score_)\n",
    "best_log_reg= grid_log_reg.best_estimator_"
   ]
  },
  {
   "cell_type": "code",
   "execution_count": 53,
   "metadata": {},
   "outputs": [
    {
     "data": {
      "text/plain": [
       "array([0.84782609, 0.84782609, 0.86956522, 0.86956522])"
      ]
     },
     "execution_count": 53,
     "metadata": {},
     "output_type": "execute_result"
    }
   ],
   "source": [
    "current_models=[('svc',best_svc),('sgd_classifier',best_sgd_clf),('logistic_reg',best_log_reg)]\n",
    "voting_clf= VotingClassifier(estimators=current_models,\n",
    "                            voting='soft')\n",
    "voting_clf.fit(X_train_scaled, y_train_enc)\n",
    "cross_val_score(voting_clf, X_train_scaled, y_train_enc, cv=4)"
   ]
  },
  {
   "cell_type": "code",
   "execution_count": 58,
   "metadata": {},
   "outputs": [
    {
     "name": "stdout",
     "output_type": "stream",
     "text": [
      "(138, 32)\n",
      "(138, 10)\n",
      "Accuracy of svc= 0.8840579710144928\n",
      "Accuracy of sgd_classifier= 0.8623188405797102\n",
      "Accuracy of logistic_reg= 0.8840579710144928\n",
      "Accuracy of voting classifier= 0.8768115942028986\n"
     ]
    },
    {
     "name": "stderr",
     "output_type": "stream",
     "text": [
      "/home/souvik/envs/tensorflow/lib/python3.6/site-packages/sklearn/preprocessing/_label.py:268: DataConversionWarning: A column-vector y was passed when a 1d array was expected. Please change the shape of y to (n_samples, ), for example using ravel().\n",
      "  y = column_or_1d(y, warn=True)\n"
     ]
    }
   ],
   "source": [
    "X_test= pd.read_csv(\"/home/souvik/ML_projects/P1_CreditCard/data/X_test.csv\")\n",
    "y_test= pd.read_csv(\"/home/souvik/ML_projects/P1_CreditCard/data/y_test.csv\")\n",
    "\n",
    "X_test_scaled= scaled_pipeline.transform(X_test)\n",
    "y_test_enc= enc_y.transform(y_test)\n",
    "for model in current_models:\n",
    "    y_pred= model[1].predict(X_test_scaled)\n",
    "    print(\"Accuracy of {}= {}\".format(model[0], accuracy_score(y_test_enc, y_pred)))\n",
    "    \n",
    "y_pred= voting_clf.predict(X_test_scaled)\n",
    "print(\"Accuracy of voting classifier= {}\".format( accuracy_score(y_test_enc, y_pred)))"
   ]
  },
  {
   "cell_type": "code",
   "execution_count": null,
   "metadata": {},
   "outputs": [],
   "source": []
  },
  {
   "cell_type": "code",
   "execution_count": null,
   "metadata": {},
   "outputs": [],
   "source": []
  }
 ],
 "metadata": {
  "kernelspec": {
   "display_name": "tensorflow",
   "language": "python",
   "name": "tensorflow"
  },
  "language_info": {
   "codemirror_mode": {
    "name": "ipython",
    "version": 3
   },
   "file_extension": ".py",
   "mimetype": "text/x-python",
   "name": "python",
   "nbconvert_exporter": "python",
   "pygments_lexer": "ipython3",
   "version": "3.6.9"
  }
 },
 "nbformat": 4,
 "nbformat_minor": 4
}
