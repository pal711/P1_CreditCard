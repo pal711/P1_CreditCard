{
 "cells": [
  {
   "cell_type": "code",
   "execution_count": 2,
   "metadata": {},
   "outputs": [],
   "source": [
    "import numpy as np\n",
    "import pandas as pd\n",
    "import sklearn\n",
    "from sklearn.preprocessing import StandardScaler\n",
    "from sklearn.model_selection import train_test_split\n",
    "from sklearn.preprocessing import LabelEncoder, OneHotEncoder\n",
    "from sklearn.model_selection import GridSearchCV\n",
    "from sklearn.svm import SVC\n",
    "from sklearn.base import BaseEstimator, TransformerMixin"
   ]
  },
  {
   "cell_type": "code",
   "execution_count": 6,
   "metadata": {},
   "outputs": [],
   "source": [
    "class NullHandler_cc(BaseEstimator, TransformerMixin):\n",
    "    def __init__(self, num_fill='mean', cat_fill= 'most_frequent'):\n",
    "        self.num_fill= num_fill\n",
    "        self.cat_fill= cat_fill\n",
    "        \n",
    "        \n",
    "    def fit(self,df,num_cols=['a2', 'a3', 'a8', 'a11', 'a14', 'a15']):\n",
    "        if type(df) != pd.DataFrame:\n",
    "            raise TypeError(\"Pandas DataFrame Expected\")\n",
    "        \n",
    "        self.df= df\n",
    "        self.num_cols= num_cols\n",
    "        df.columns= list(map(str.lower, list(df.columns)))\n",
    "        self.cat_cols= list( set(list(df.columns)) - set(self.num_cols))\n",
    "        \n",
    "        self.cat_fill_vals={}\n",
    "        for col in self.cat_cols:\n",
    "            self.cat_fill_vals[col]= df[col].value_counts().idxmax()\n",
    "        \n",
    "        df[self.num_cols]= df[self.num_cols].replace('?', np.NAN)\n",
    "        df['a2']= df['a2'].astype('float64')\n",
    "        df['a11']= df['a11'].astype('float64')\n",
    "        df['a14']= df['a14'].astype('float64')\n",
    "        df['a15']= df['a15'].astype('float64')\n",
    "        self.num_fill_vals= dict(df.mean())\n",
    "        \n",
    "        return self\n",
    "    \n",
    "    def transform(self, df):\n",
    "        df.replace('?', np.NAN, inplace= True)\n",
    "        df['a2']= df['a2'].astype('float64')\n",
    "        df['a11']= df['a11'].astype('float64')\n",
    "        df['a14']= df['a14'].astype('float64')\n",
    "        df['a15']= df['a15'].astype('float64')\n",
    "        self.cat_fill_vals.update(self.num_fill_vals)\n",
    "        fill_vals= self.cat_fill_vals\n",
    "        print(\"fill_vals={}\".format(fill_vals))\n",
    "        df_ = df.fillna(value= fill_vals)\n",
    "        \n",
    "        return df_\n",
    "        \n",
    "        "
   ]
  },
  {
   "cell_type": "code",
   "execution_count": 9,
   "metadata": {},
   "outputs": [],
   "source": [
    "class Cat_columns_handler_cc(BaseEstimator, TransformerMixin):\n",
    "    \n",
    "    def __init__(self):\n",
    "        pass\n",
    "        \n",
    "        \n",
    "    def fit(self, df, binary_cols=['a1', 'a9', 'a10', 'a12'], multivalcatcolumns= ['a4', 'a5', 'a6', 'a7', 'a13']):\n",
    "        self.binary_cols= binary_cols\n",
    "        self.multivalcatcolumns= multivalcatcolumns\n",
    "        \n",
    "        if type(df) != pd.DataFrame:\n",
    "            raise TypeError(\"Pandas DataFrame Expected\")\n",
    "        \n",
    "        self.binary_encoders= []\n",
    "        \n",
    "        for col in self.binary_cols:\n",
    "            le_enc= LabelEncoder()\n",
    "            le_enc.fit(df[col])\n",
    "            self.binary_encoders.append(le_enc)\n",
    "            del le_enc\n",
    "            \n",
    "        \n",
    "        self.ohe= OneHotEncoder(sparse=False, handle_unknown= 'ignore')\n",
    "        self.ohe.fit(df[self.multivalcatcolumns])\n",
    "        \n",
    "        return self\n",
    "    \n",
    "    def transform(self, df):\n",
    "        if type(df) != pd.DataFrame:\n",
    "            raise TypeError(\"Pandas DataFrame Expected\")\n",
    "        \n",
    "        for col, le_enc in zip(self.binary_cols, self.binary_encoders):\n",
    "            df.loc[:,col]= le_enc.transform(df[col])\n",
    "        \n",
    "        temp_df= pd.DataFrame(self.ohe.transform(df[self.multivalcatcolumns]))\n",
    "        print(temp_df.shape)\n",
    "        df.drop(self.multivalcatcolumns, axis=1 , inplace=True)\n",
    "        print(df.shape)\n",
    "        return pd.concat([df, temp_df], axis= 1)\n",
    "    \n",
    "    "
   ]
  },
  {
   "cell_type": "code",
   "execution_count": 15,
   "metadata": {},
   "outputs": [],
   "source": [
    " class Encoding_y(BaseEstimator, TransformerMixin):\n",
    "        def __init__(self):\n",
    "            pass\n",
    "        \n",
    "        def fit(self, y):\n",
    "            self.le= LabelEncoder()\n",
    "            self.le.fit(y)\n",
    "            return self\n",
    "        \n",
    "        def transform(self, y):\n",
    "            return self.le.transform(y)"
   ]
  },
  {
   "cell_type": "code",
   "execution_count": 4,
   "metadata": {},
   "outputs": [],
   "source": [
    "def scaling_data(df):\n",
    "    scaler= StandardScaler()\n",
    "    return scaler.fit_transform(df)"
   ]
  },
  {
   "cell_type": "code",
   "execution_count": 4,
   "metadata": {},
   "outputs": [
    {
     "data": {
      "text/html": [
       "<div>\n",
       "<style scoped>\n",
       "    .dataframe tbody tr th:only-of-type {\n",
       "        vertical-align: middle;\n",
       "    }\n",
       "\n",
       "    .dataframe tbody tr th {\n",
       "        vertical-align: top;\n",
       "    }\n",
       "\n",
       "    .dataframe thead th {\n",
       "        text-align: right;\n",
       "    }\n",
       "</style>\n",
       "<table border=\"1\" class=\"dataframe\">\n",
       "  <thead>\n",
       "    <tr style=\"text-align: right;\">\n",
       "      <th></th>\n",
       "      <th>a1</th>\n",
       "      <th>a2</th>\n",
       "      <th>a3</th>\n",
       "      <th>a4</th>\n",
       "      <th>a5</th>\n",
       "      <th>a6</th>\n",
       "      <th>a7</th>\n",
       "      <th>a8</th>\n",
       "      <th>a9</th>\n",
       "      <th>a10</th>\n",
       "      <th>a11</th>\n",
       "      <th>a12</th>\n",
       "      <th>a13</th>\n",
       "      <th>a14</th>\n",
       "      <th>a15</th>\n",
       "    </tr>\n",
       "  </thead>\n",
       "  <tbody>\n",
       "    <tr>\n",
       "      <th>0</th>\n",
       "      <td>b</td>\n",
       "      <td>20.17</td>\n",
       "      <td>8.170</td>\n",
       "      <td>u</td>\n",
       "      <td>g</td>\n",
       "      <td>aa</td>\n",
       "      <td>v</td>\n",
       "      <td>1.960</td>\n",
       "      <td>t</td>\n",
       "      <td>t</td>\n",
       "      <td>14</td>\n",
       "      <td>f</td>\n",
       "      <td>g</td>\n",
       "      <td>00060</td>\n",
       "      <td>158</td>\n",
       "    </tr>\n",
       "    <tr>\n",
       "      <th>1</th>\n",
       "      <td>a</td>\n",
       "      <td>27.58</td>\n",
       "      <td>3.000</td>\n",
       "      <td>u</td>\n",
       "      <td>g</td>\n",
       "      <td>m</td>\n",
       "      <td>v</td>\n",
       "      <td>2.790</td>\n",
       "      <td>f</td>\n",
       "      <td>t</td>\n",
       "      <td>1</td>\n",
       "      <td>t</td>\n",
       "      <td>g</td>\n",
       "      <td>00280</td>\n",
       "      <td>10</td>\n",
       "    </tr>\n",
       "    <tr>\n",
       "      <th>2</th>\n",
       "      <td>b</td>\n",
       "      <td>39.58</td>\n",
       "      <td>13.915</td>\n",
       "      <td>u</td>\n",
       "      <td>g</td>\n",
       "      <td>w</td>\n",
       "      <td>v</td>\n",
       "      <td>8.625</td>\n",
       "      <td>t</td>\n",
       "      <td>t</td>\n",
       "      <td>6</td>\n",
       "      <td>t</td>\n",
       "      <td>g</td>\n",
       "      <td>00070</td>\n",
       "      <td>0</td>\n",
       "    </tr>\n",
       "    <tr>\n",
       "      <th>3</th>\n",
       "      <td>b</td>\n",
       "      <td>41.17</td>\n",
       "      <td>1.250</td>\n",
       "      <td>y</td>\n",
       "      <td>p</td>\n",
       "      <td>w</td>\n",
       "      <td>v</td>\n",
       "      <td>0.250</td>\n",
       "      <td>f</td>\n",
       "      <td>f</td>\n",
       "      <td>0</td>\n",
       "      <td>f</td>\n",
       "      <td>g</td>\n",
       "      <td>00000</td>\n",
       "      <td>195</td>\n",
       "    </tr>\n",
       "    <tr>\n",
       "      <th>4</th>\n",
       "      <td>b</td>\n",
       "      <td>22.25</td>\n",
       "      <td>0.460</td>\n",
       "      <td>u</td>\n",
       "      <td>g</td>\n",
       "      <td>k</td>\n",
       "      <td>v</td>\n",
       "      <td>0.125</td>\n",
       "      <td>f</td>\n",
       "      <td>f</td>\n",
       "      <td>0</td>\n",
       "      <td>t</td>\n",
       "      <td>g</td>\n",
       "      <td>00280</td>\n",
       "      <td>55</td>\n",
       "    </tr>\n",
       "  </tbody>\n",
       "</table>\n",
       "</div>"
      ],
      "text/plain": [
       "  a1     a2      a3 a4 a5  a6 a7     a8 a9 a10  a11 a12 a13    a14  a15\n",
       "0  b  20.17   8.170  u  g  aa  v  1.960  t   t   14   f   g  00060  158\n",
       "1  a  27.58   3.000  u  g   m  v  2.790  f   t    1   t   g  00280   10\n",
       "2  b  39.58  13.915  u  g   w  v  8.625  t   t    6   t   g  00070    0\n",
       "3  b  41.17   1.250  y  p   w  v  0.250  f   f    0   f   g  00000  195\n",
       "4  b  22.25   0.460  u  g   k  v  0.125  f   f    0   t   g  00280   55"
      ]
     },
     "execution_count": 4,
     "metadata": {},
     "output_type": "execute_result"
    }
   ],
   "source": [
    "X_train= pd.read_csv(\"/home/souvik/ML_projects/P1_CreditCard/data/X_train.csv\")\n",
    "y_train= pd.read_csv(\"/home/souvik/ML_projects/P1_CreditCard/data/y_train.csv\")\n",
    "X_train.head()"
   ]
  },
  {
   "cell_type": "code",
   "execution_count": 7,
   "metadata": {},
   "outputs": [
    {
     "name": "stdout",
     "output_type": "stream",
     "text": [
      "fill_vals={'a5': 'g', 'a1': 'b', 'a4': 'u', 'a6': 'c', 'a10': 'f', 'a7': 'v', 'a9': 't', 'a12': 'f', 'a13': 'g', 'a2': 32.23839483394834, 'a3': 4.865760869565217, 'a8': 2.34768115942029, 'a11': 2.572463768115942, 'a14': 178.070110701107, 'a15': 1104.5}\n",
      "a1     0\n",
      "a2     0\n",
      "a3     0\n",
      "a4     0\n",
      "a5     0\n",
      "a6     0\n",
      "a7     0\n",
      "a8     0\n",
      "a9     0\n",
      "a10    0\n",
      "a11    0\n",
      "a12    0\n",
      "a13    0\n",
      "a14    0\n",
      "a15    0\n",
      "dtype: int64\n"
     ]
    }
   ],
   "source": [
    "#print(X_train.isna().sum())\n",
    "\n",
    "null_handler= NullHandler_cc()\n",
    "null_handler.fit(X_train)\n",
    "X_train_no_null= null_handler.transform(X_train)\n",
    "print(X_train_no_null.isna().sum())"
   ]
  },
  {
   "cell_type": "code",
   "execution_count": 10,
   "metadata": {},
   "outputs": [
    {
     "name": "stdout",
     "output_type": "stream",
     "text": [
      "(552, 15)\n",
      "(552, 32)\n",
      "(552, 10)\n",
      "(552, 42)\n",
      "   a1     a2      a3     a8  a9  a10   a11  a12    a14    a15  ...   22   23  \\\n",
      "0   1  20.17   8.170  1.960   1    1  14.0    0   60.0  158.0  ...  0.0  0.0   \n",
      "1   0  27.58   3.000  2.790   0    1   1.0    1  280.0   10.0  ...  0.0  0.0   \n",
      "2   1  39.58  13.915  8.625   1    1   6.0    1   70.0    0.0  ...  0.0  0.0   \n",
      "3   1  41.17   1.250  0.250   0    0   0.0    0    0.0  195.0  ...  0.0  0.0   \n",
      "4   1  22.25   0.460  0.125   0    0   0.0    1  280.0   55.0  ...  0.0  0.0   \n",
      "\n",
      "    24   25   26   27   28   29   30   31  \n",
      "0  0.0  0.0  0.0  1.0  0.0  1.0  0.0  0.0  \n",
      "1  0.0  0.0  0.0  1.0  0.0  1.0  0.0  0.0  \n",
      "2  0.0  0.0  0.0  1.0  0.0  1.0  0.0  0.0  \n",
      "3  0.0  0.0  0.0  1.0  0.0  1.0  0.0  0.0  \n",
      "4  0.0  0.0  0.0  1.0  0.0  1.0  0.0  0.0  \n",
      "\n",
      "[5 rows x 42 columns]\n"
     ]
    }
   ],
   "source": [
    "print(X_train_no_null.shape)\n",
    "cat_cols_handler= Cat_columns_handler_cc()\n",
    "cat_cols_handler.fit(X_train_no_null)\n",
    "X_train_non_scaled= cat_cols_handler.transform(X_train_no_null)\n",
    "print(X_train_non_scaled.shape)\n",
    "#need to check why it has 46 colums, label encoders should be 0,1 \n",
    "print(X_train_non_scaled.head())"
   ]
  },
  {
   "cell_type": "code",
   "execution_count": 11,
   "metadata": {},
   "outputs": [
    {
     "data": {
      "text/plain": [
       "[array(['l', 'u', 'y'], dtype=object),\n",
       " array(['g', 'gg', 'p'], dtype=object),\n",
       " array(['aa', 'c', 'cc', 'd', 'e', 'ff', 'i', 'j', 'k', 'm', 'q', 'r', 'w',\n",
       "        'x'], dtype=object),\n",
       " array(['bb', 'dd', 'ff', 'h', 'j', 'n', 'o', 'v', 'z'], dtype=object),\n",
       " array(['g', 'p', 's'], dtype=object)]"
      ]
     },
     "execution_count": 11,
     "metadata": {},
     "output_type": "execute_result"
    }
   ],
   "source": [
    "cat_cols_handler.ohe.categories_"
   ]
  },
  {
   "cell_type": "code",
   "execution_count": 16,
   "metadata": {},
   "outputs": [
    {
     "name": "stderr",
     "output_type": "stream",
     "text": [
      "/home/souvik/envs/tensorflow/lib/python3.6/site-packages/sklearn/preprocessing/_label.py:268: DataConversionWarning: A column-vector y was passed when a 1d array was expected. Please change the shape of y to (n_samples, ), for example using ravel().\n",
      "  y = column_or_1d(y, warn=True)\n"
     ]
    }
   ],
   "source": [
    "enc_y= Encoding_y()\n",
    "enc_y.fit(y_train)\n",
    "y_train= enc_y.transform(y_train)"
   ]
  },
  {
   "cell_type": "code",
   "execution_count": 17,
   "metadata": {},
   "outputs": [
    {
     "data": {
      "text/plain": [
       "array([0, 1, 0, 1, 1])"
      ]
     },
     "execution_count": 17,
     "metadata": {},
     "output_type": "execute_result"
    }
   ],
   "source": [
    "y_train[:5]"
   ]
  },
  {
   "cell_type": "code",
   "execution_count": null,
   "metadata": {},
   "outputs": [],
   "source": [
    "X_train['a4'].value_counts()"
   ]
  },
  {
   "cell_type": "code",
   "execution_count": null,
   "metadata": {},
   "outputs": [],
   "source": [
    "X_train['a5'].value_counts()"
   ]
  },
  {
   "cell_type": "code",
   "execution_count": null,
   "metadata": {},
   "outputs": [],
   "source": []
  }
 ],
 "metadata": {
  "kernelspec": {
   "display_name": "tensorflow",
   "language": "python",
   "name": "tensorflow"
  },
  "language_info": {
   "codemirror_mode": {
    "name": "ipython",
    "version": 3
   },
   "file_extension": ".py",
   "mimetype": "text/x-python",
   "name": "python",
   "nbconvert_exporter": "python",
   "pygments_lexer": "ipython3",
   "version": "3.6.9"
  }
 },
 "nbformat": 4,
 "nbformat_minor": 4
}
